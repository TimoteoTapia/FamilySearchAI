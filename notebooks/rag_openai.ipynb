{
 "cells": [
  {
   "cell_type": "code",
   "execution_count": 1,
   "metadata": {},
   "outputs": [],
   "source": [
    "# Magic commands\n",
    "%load_ext autoreload\n",
    "%autoreload 2\n",
    "%load_ext dotenv\n",
    "%dotenv"
   ]
  },
  {
   "cell_type": "code",
   "execution_count": 18,
   "metadata": {},
   "outputs": [],
   "source": [
    "import os\n",
    "import nest_asyncio\n",
    "import pandas as pd\n",
    "from dotenv import load_dotenv\n",
    "from pinecone import Pinecone\n",
    "from llama_index.llms.openai import OpenAI\n",
    "from llama_index.core import Settings, SimpleDirectoryReader\n",
    "from llama_index.embeddings.openai import OpenAIEmbedding\n",
    "from llama_index.vector_stores.pinecone import PineconeVectorStore\n",
    "\n",
    "# from pinecone.exceptions import PineconeApiException\n",
    "# import google.generativeai as genai\n",
    "\n",
    "# from llama_index.llms.gemini import Gemini\n",
    "# from llama_index.core import SimpleDirectoryReader, VectorStoreIndex, PromptTemplate, get_response_synthesizer\n",
    "# from llama_index.core.retrievers import VectorIndexRetriever\n"
   ]
  },
  {
   "cell_type": "code",
   "execution_count": 6,
   "metadata": {},
   "outputs": [],
   "source": [
    "load_dotenv()\n",
    "PINECONE_API_KEY = os.getenv(\"PINECONE_API_KEY\")\n",
    "# OPENAI_API_KEY = os.getenv(\"OPENAI_API_KEY\")\n",
    "GEMINI_API_KEY = os.environ[\"GEMINI_API_KEY\"]\n"
   ]
  },
  {
   "cell_type": "code",
   "execution_count": 7,
   "metadata": {},
   "outputs": [],
   "source": [
    "pinecone_client = Pinecone(api_key=PINECONE_API_KEY)\n",
    "client = OpenAI(\n",
    "    # Defaults to os.environ.get(\"OPENAI_API_KEY\")\n",
    "model=\"gpt-4o-mini\", temperature=0)"
   ]
  },
  {
   "cell_type": "code",
   "execution_count": 8,
   "metadata": {},
   "outputs": [],
   "source": [
    "embedding = OpenAIEmbedding(model=\"text-embedding-ada-002\")\n",
    "Settings.llm = client\n",
    "Settings.embed_model = embedding\n",
    "Settings.chunk_size_limit = 1536 "
   ]
  },
  {
   "cell_type": "code",
   "execution_count": 9,
   "metadata": {},
   "outputs": [],
   "source": [
    "nest_asyncio.apply()"
   ]
  },
  {
   "cell_type": "code",
   "execution_count": 10,
   "metadata": {},
   "outputs": [],
   "source": [
    "docs = SimpleDirectoryReader('../data/raw', recursive=True).load_data()"
   ]
  },
  {
   "cell_type": "code",
   "execution_count": 11,
   "metadata": {},
   "outputs": [
    {
     "data": {
      "text/plain": [
       "Document(id_='df136f77-be80-41e7-81c8-4195eb6c2d7b', embedding=None, metadata={'file_path': 'c:\\\\Users\\\\timytapilla\\\\Documents\\\\BYU-Idaho\\\\Fall_semester_2024\\\\Applied Programming CSE 310\\\\Projects\\\\FamilySearchAI\\\\notebooks\\\\..\\\\data\\\\raw\\\\attaching-a-source-to.md', 'file_name': 'attaching-a-source-to.md', 'file_size': 1423, 'creation_date': '2024-09-24', 'last_modified_date': '2024-09-24'}, excluded_embed_metadata_keys=['file_name', 'file_type', 'file_size', 'creation_date', 'last_modified_date', 'last_accessed_date'], excluded_llm_metadata_keys=['file_name', 'file_type', 'file_size', 'creation_date', 'last_modified_date', 'last_accessed_date'], relationships={}, text='---\\r\\ntitle: \"\\r\\n        Using Source Linker to attach a  record to multiple ancestors\\r\\n    \"\\r\\ndate: \"\\r\\n                June 06, 2024\\r\\n            \"\\r\\nurl: \"https://www.familysearch.org/en/help/helpcenter/article/attaching-a-source-to-multiple-people-in-family-tree\"\\r\\n---\\r\\n\\r', mimetype='text/plain', start_char_idx=None, end_char_idx=None, text_template='{metadata_str}\\n\\n{content}', metadata_template='{key}: {value}', metadata_seperator='\\n')"
      ]
     },
     "execution_count": 11,
     "metadata": {},
     "output_type": "execute_result"
    }
   ],
   "source": [
    "docs[0]"
   ]
  },
  {
   "cell_type": "code",
   "execution_count": 14,
   "metadata": {},
   "outputs": [
    {
     "data": {
      "text/html": [
       "<div>\n",
       "<style scoped>\n",
       "    .dataframe tbody tr th:only-of-type {\n",
       "        vertical-align: middle;\n",
       "    }\n",
       "\n",
       "    .dataframe tbody tr th {\n",
       "        vertical-align: top;\n",
       "    }\n",
       "\n",
       "    .dataframe thead th {\n",
       "        text-align: right;\n",
       "    }\n",
       "</style>\n",
       "<table border=\"1\" class=\"dataframe\">\n",
       "  <thead>\n",
       "    <tr style=\"text-align: right;\">\n",
       "      <th></th>\n",
       "      <th>file_path</th>\n",
       "      <th>file_name</th>\n",
       "      <th>file_size</th>\n",
       "      <th>creation_date</th>\n",
       "      <th>last_modified_date</th>\n",
       "    </tr>\n",
       "  </thead>\n",
       "  <tbody>\n",
       "    <tr>\n",
       "      <th>0</th>\n",
       "      <td>c:\\Users\\timytapilla\\Documents\\BYU-Idaho\\Fall_...</td>\n",
       "      <td>attaching-a-source-to.md</td>\n",
       "      <td>1423</td>\n",
       "      <td>2024-09-24</td>\n",
       "      <td>2024-09-24</td>\n",
       "    </tr>\n",
       "    <tr>\n",
       "      <th>1</th>\n",
       "      <td>c:\\Users\\timytapilla\\Documents\\BYU-Idaho\\Fall_...</td>\n",
       "      <td>attaching-a-source-to.md</td>\n",
       "      <td>1423</td>\n",
       "      <td>2024-09-24</td>\n",
       "      <td>2024-09-24</td>\n",
       "    </tr>\n",
       "    <tr>\n",
       "      <th>2</th>\n",
       "      <td>c:\\Users\\timytapilla\\Documents\\BYU-Idaho\\Fall_...</td>\n",
       "      <td>creating-new-people-in.md</td>\n",
       "      <td>1616</td>\n",
       "      <td>2024-09-24</td>\n",
       "      <td>2024-09-24</td>\n",
       "    </tr>\n",
       "    <tr>\n",
       "      <th>3</th>\n",
       "      <td>c:\\Users\\timytapilla\\Documents\\BYU-Idaho\\Fall_...</td>\n",
       "      <td>creating-new-people-in.md</td>\n",
       "      <td>1616</td>\n",
       "      <td>2024-09-24</td>\n",
       "      <td>2024-09-24</td>\n",
       "    </tr>\n",
       "    <tr>\n",
       "      <th>4</th>\n",
       "      <td>c:\\Users\\timytapilla\\Documents\\BYU-Idaho\\Fall_...</td>\n",
       "      <td>detaching-sources-that-should.md</td>\n",
       "      <td>1556</td>\n",
       "      <td>2024-09-24</td>\n",
       "      <td>2024-09-24</td>\n",
       "    </tr>\n",
       "    <tr>\n",
       "      <th>5</th>\n",
       "      <td>c:\\Users\\timytapilla\\Documents\\BYU-Idaho\\Fall_...</td>\n",
       "      <td>detaching-sources-that-should.md</td>\n",
       "      <td>1556</td>\n",
       "      <td>2024-09-24</td>\n",
       "      <td>2024-09-24</td>\n",
       "    </tr>\n",
       "    <tr>\n",
       "      <th>6</th>\n",
       "      <td>c:\\Users\\timytapilla\\Documents\\BYU-Idaho\\Fall_...</td>\n",
       "      <td>detaching-sources-that-should.md</td>\n",
       "      <td>1556</td>\n",
       "      <td>2024-09-24</td>\n",
       "      <td>2024-09-24</td>\n",
       "    </tr>\n",
       "    <tr>\n",
       "      <th>7</th>\n",
       "      <td>c:\\Users\\timytapilla\\Documents\\BYU-Idaho\\Fall_...</td>\n",
       "      <td>detaching-sources-that-should.md</td>\n",
       "      <td>1556</td>\n",
       "      <td>2024-09-24</td>\n",
       "      <td>2024-09-24</td>\n",
       "    </tr>\n",
       "    <tr>\n",
       "      <th>8</th>\n",
       "      <td>c:\\Users\\timytapilla\\Documents\\BYU-Idaho\\Fall_...</td>\n",
       "      <td>determining-if-a-source.md</td>\n",
       "      <td>1891</td>\n",
       "      <td>2024-09-24</td>\n",
       "      <td>2024-09-24</td>\n",
       "    </tr>\n",
       "    <tr>\n",
       "      <th>9</th>\n",
       "      <td>c:\\Users\\timytapilla\\Documents\\BYU-Idaho\\Fall_...</td>\n",
       "      <td>determining-if-a-source.md</td>\n",
       "      <td>1891</td>\n",
       "      <td>2024-09-24</td>\n",
       "      <td>2024-09-24</td>\n",
       "    </tr>\n",
       "  </tbody>\n",
       "</table>\n",
       "</div>"
      ],
      "text/plain": [
       "                                           file_path  \\\n",
       "0  c:\\Users\\timytapilla\\Documents\\BYU-Idaho\\Fall_...   \n",
       "1  c:\\Users\\timytapilla\\Documents\\BYU-Idaho\\Fall_...   \n",
       "2  c:\\Users\\timytapilla\\Documents\\BYU-Idaho\\Fall_...   \n",
       "3  c:\\Users\\timytapilla\\Documents\\BYU-Idaho\\Fall_...   \n",
       "4  c:\\Users\\timytapilla\\Documents\\BYU-Idaho\\Fall_...   \n",
       "5  c:\\Users\\timytapilla\\Documents\\BYU-Idaho\\Fall_...   \n",
       "6  c:\\Users\\timytapilla\\Documents\\BYU-Idaho\\Fall_...   \n",
       "7  c:\\Users\\timytapilla\\Documents\\BYU-Idaho\\Fall_...   \n",
       "8  c:\\Users\\timytapilla\\Documents\\BYU-Idaho\\Fall_...   \n",
       "9  c:\\Users\\timytapilla\\Documents\\BYU-Idaho\\Fall_...   \n",
       "\n",
       "                          file_name  file_size creation_date  \\\n",
       "0          attaching-a-source-to.md       1423    2024-09-24   \n",
       "1          attaching-a-source-to.md       1423    2024-09-24   \n",
       "2         creating-new-people-in.md       1616    2024-09-24   \n",
       "3         creating-new-people-in.md       1616    2024-09-24   \n",
       "4  detaching-sources-that-should.md       1556    2024-09-24   \n",
       "5  detaching-sources-that-should.md       1556    2024-09-24   \n",
       "6  detaching-sources-that-should.md       1556    2024-09-24   \n",
       "7  detaching-sources-that-should.md       1556    2024-09-24   \n",
       "8        determining-if-a-source.md       1891    2024-09-24   \n",
       "9        determining-if-a-source.md       1891    2024-09-24   \n",
       "\n",
       "  last_modified_date  \n",
       "0         2024-09-24  \n",
       "1         2024-09-24  \n",
       "2         2024-09-24  \n",
       "3         2024-09-24  \n",
       "4         2024-09-24  \n",
       "5         2024-09-24  \n",
       "6         2024-09-24  \n",
       "7         2024-09-24  \n",
       "8         2024-09-24  \n",
       "9         2024-09-24  "
      ]
     },
     "execution_count": 14,
     "metadata": {},
     "output_type": "execute_result"
    }
   ],
   "source": [
    "df = pd.DataFrame([d.metadata for d in docs])\n",
    "df.head(10)"
   ]
  },
  {
   "cell_type": "code",
   "execution_count": null,
   "metadata": {},
   "outputs": [],
   "source": [
    "pinecone_index = pinecone_client.Index(\"chat bot\")\n",
    "vector_store = PineconeVectorStore(pinecone_index )"
   ]
  }
 ],
 "metadata": {
  "kernelspec": {
   "display_name": ".venv",
   "language": "python",
   "name": "python3"
  },
  "language_info": {
   "codemirror_mode": {
    "name": "ipython",
    "version": 3
   },
   "file_extension": ".py",
   "mimetype": "text/x-python",
   "name": "python",
   "nbconvert_exporter": "python",
   "pygments_lexer": "ipython3",
   "version": "3.11.9"
  }
 },
 "nbformat": 4,
 "nbformat_minor": 2
}
